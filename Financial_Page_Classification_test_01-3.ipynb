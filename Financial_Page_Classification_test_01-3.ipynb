{
 "cells": [
  {
   "cell_type": "code",
   "execution_count": 1,
   "id": "aec07153",
   "metadata": {},
   "outputs": [],
   "source": [
    "import sklearn.datasets as skd\n",
    "categories = ['FS', 'Notes','Junk']\n",
    "pages_dict = skd.load_files('/Users/baggu/Downloads/FT_ML_training_Data/Input/', categories= categories, encoding= 'ISO-8859-1')"
   ]
  },
  {
   "cell_type": "code",
   "execution_count": 2,
   "id": "4360de60",
   "metadata": {},
   "outputs": [],
   "source": [
    "from sklearn.model_selection import train_test_split\n",
    "data_train, data_test, target_train, target_test = train_test_split(pages_dict['data'], pages_dict['target'], test_size=0.2, random_state=42)"
   ]
  },
  {
   "cell_type": "code",
   "execution_count": 3,
   "id": "13b06731",
   "metadata": {},
   "outputs": [],
   "source": [
    "train_pages_dict = {\n",
    "    'data' : data_train,\n",
    "    'target' : target_train\n",
    "}\n",
    "\n",
    "test_pages_dict = {\n",
    "    'data' : data_test,\n",
    "    'target' : target_test\n",
    "}"
   ]
  },
  {
   "cell_type": "code",
   "execution_count": 4,
   "id": "cf09f9fa",
   "metadata": {},
   "outputs": [
    {
     "data": {
      "text/plain": [
       "(8372, 1231)"
      ]
     },
     "execution_count": 4,
     "metadata": {},
     "output_type": "execute_result"
    }
   ],
   "source": [
    "from sklearn.feature_extraction.text import CountVectorizer\n",
    "count_vect = CountVectorizer(stop_words='english', min_df=0.03, ngram_range=(1,2)) #I can also specify the range of n-grams\n",
    "X_train_tf = count_vect.fit_transform(train_pages_dict['data'])\n",
    "X_train_tf.shape\n",
    "\n",
    "#0.03 is better than 0.02,0.04"
   ]
  },
  {
   "cell_type": "code",
   "execution_count": 5,
   "id": "1ccd1489",
   "metadata": {},
   "outputs": [
    {
     "name": "stdout",
     "output_type": "stream",
     "text": [
      "['00', '000', '000 000', '01', '02', '03', '04', '05', '06', '07', '08', '09', '10', '100', '101', '102', '103', '104', '105', '106', '107', '108', '109', '11', '110', '111', '112', '113', '114', '115', '116', '117', '118', '119', '12', '12 months', '120', '121', '122', '123', '125', '129', '13', '130', '132', '133', '134', '135', '138', '139', '14', '140', '143', '148', '149', '15', '150', '16', '160', '17', '170', '173', '174', '18', '19', '20', '200', '2013', '2014', '2015', '2016', '2017', '2018', '2018 19', '2018 2017', '2018 2019', '2018 annual', '2018 rm', '2019', '2019 20', '2019 2018', '2019 2020', '2019 annual', '2019 notes', '2020', '2020 2019', '2021', '21', '22', '23', '24', '25', '250', '26', '27', '28', '29', '30', '30 june', '300', '31', '31 2015', '31 2017', '31 2018', '31 2019', '31 2020', '31 december', '31 march', '31st', '31st march', '32', '33', '34', '35', '36', '37', '38', '39', '40', '400', '41', '42', '43', '44', '441', '442', '45', '46', '47', '476', '48', '49', '50', '500', '51', '52', '53', '54', '55', '56', '57', '58', '59', '60', '600', '61', '62', '63', '64', '65', '66', '67', '68', '69', '70', '700', '71', '72', '73', '74', '75', '750', '76', '77', '78', '79', '80', '800', '81', '82', '83', '84', '85', '86', '87', '88', '89', '90', '91', '92', '93', '94', '95', '96', '97', '98', '99', 'ability', 'able', 'access', 'accompanying', 'accompanying notes', 'accordance', 'accordingly', 'account', 'accountants', 'accounted', 'accounting', 'accounting policies', 'accounting standards', 'accounts', 'accrued', 'accumulated', 'acquired', 'acquisition', 'acquisitions', 'act', 'act 2013', 'activities', 'activity', 'actual', 'addition', 'additional', 'address', 'adequate', 'adjusted', 'adjustment', 'adjustments', 'administrative', 'adopted', 'adoption', 'advance', 'advances', 'adverse', 'affairs', 'affect', 'affected', 'aggregate', 'agreement', 'agreements', 'allocated', 'allowance', 'amended', 'amortisation', 'amortised', 'amortization', 'amounts', 'analysis', 'annual', 'annual general', 'annual report', 'annually', 'applicable', 'application', 'applied', 'appointed', 'appointment', 'approach', 'appropriate', 'approval', 'approved', 'approximately', 'april', 'area', 'areas', 'arise', 'arising', 'arrangement', 'arrangements', 'assess', 'assessed', 'assessing', 'assessment', 'asset', 'assets', 'assets liabilities', 'associate', 'associated', 'associates', 'assumptions', 'assurance', 'attributable', 'audit', 'audit committee', 'audited', 'auditor', 'auditor report', 'auditors', 'august', 'australia', 'australian', 'authorities', 'authority', 'available', 'average', 'balance', 'balance sheet', 'balances', 'bank', 'banking', 'banks', 'base', 'based', 'based compensation', 'basic', 'basis', 'beginning', 'beginning year', 'behalf', 'behalf board', 'believe', 'benefit', 'benefits', 'berhad', 'best', 'bhd', 'board', 'board directors', 'borrowing', 'borrowings', 'building', 'business', 'businesses', 'calculated', 'canada', 'canadian', 'canadian dollars', 'capacity', 'capital', 'carried', 'carrying', 'carrying amounts', 'carrying value', 'case', 'cash', 'cash cash', 'cash equivalents', 'cash flow', 'cash flows', 'category', 'central', 'ceo', 'certain', 'chairman', 'change', 'changes', 'changes equity', 'charge', 'charged', 'charges', 'chartered', 'chartered accountants', 'chief', 'chief executive', 'chief financial', 'circumstances', 'class', 'classification', 'classified', 'closing', 'code', 'com', 'combination', 'commercial', 'commission', 'commitments', 'committed', 'committee', 'common', 'common shares', 'companies', 'companies act', 'company', 'company financial', 'company secretary', 'compared', 'compensation', 'competitive', 'completed', 'completion', 'compliance', 'comply', 'component', 'components', 'comprehensive', 'comprehensive income', 'comprise', 'comprises', 'concern', 'condition', 'conditions', 'conduct', 'conducted', 'connection', 'consider', 'consideration', 'considered', 'consistent', 'consolidated', 'consolidated financial', 'consolidated statement', 'consolidated statements', 'construction', 'cont', 'contingent', 'continue', 'continued', 'continues', 'continuing', 'contract', 'contracts', 'contractual', 'contributed', 'contribution', 'contributions', 'control', 'controlled', 'controlled entities', 'controlling', 'controlling interests', 'controls', 'convertible', 'corp', 'corporate', 'corporate governance', 'corporation', 'corporations', 'cost', 'costs', 'course', 'credit', 'credit risk', 'criteria', 'critical', 'cumulative', 'currency', 'current', 'current assets', 'current liabilities', 'current tax', 'currently', 'customer', 'customers', 'data', 'date', 'dated', 'day', 'days', 'debt', 'december', 'december 2018', 'december 2019', 'december 31', 'decision', 'decisions', 'declaration', 'declared', 'decrease', 'decreased', 'deemed', 'deferred', 'deferred tax', 'defined', 'defined benefit', 'demand', 'deposit', 'deposits', 'depreciation', 'derivative', 'derivatives', 'described', 'design', 'designated', 'detailed', 'details', 'determine', 'determined', 'determining', 'development', 'did', 'difference', 'differences', 'different', 'diluted', 'din', 'direct', 'directly', 'director', 'directors', 'directors company', 'directors report', 'disclosed', 'disclosure', 'disclosures', 'discount', 'discounted', 'discussion', 'discussion analysis', 'disposal', 'distribution', 'dividend', 'dividends', 'does', 'dollar', 'dollars', 'dollars share', 'earnings', 'earnings share', 'ebitda', 'economic', 'effect', 'effective', 'effectively', 'effectiveness', 'electricity', 'eligible', 'employee', 'employee benefits', 'employees', 'employment', 'en', 'enable', 'end', 'end financial', 'end reporting', 'end year', 'ended', 'ended 30', 'ended 31', 'ended december', 'ended march', 'energy', 'ensure', 'ensuring', 'entered', 'entities', 'entitled', 'entity', 'environment', 'environmental', 'equal', 'equipment', 'equity', 'equivalent', 'equivalents', 'established', 'estimate', 'estimated', 'estimates', 'evaluation', 'event', 'events', 'evidence', 'exchange', 'exchange rate', 'excluding', 'executive', 'executive director', 'executive directors', 'executive officer', 'exercise', 'existing', 'exists', 'expected', 'expenditure', 'expenditures', 'expense', 'expenses', 'experience', 'exploration', 'exposed', 'exposure', 'expressed', 'extent', 'external', 'facilities', 'facility', 'factors', 'fair', 'fair value', 'february', 'fees', 'final', 'finance', 'finance costs', 'financial', 'financial assets', 'financial information', 'financial instruments', 'financial liabilities', 'financial officer', 'financial performance', 'financial position', 'financial report', 'financial reporting', 'financial statements', 'financial year', 'financing', 'financing activities', 'firm', 'fixed', 'flow', 'flows', 'focus', 'following', 'following table', 'follows', 'foreign', 'foreign currency', 'foreign exchange', 'form', 'forming', 'forward', 'fourth', 'framework', 'free', 'fully', 'fund', 'funding', 'funds', 'future', 'future cash', 'gain', 'gain loss', 'gains', 'gains losses', 'gas', 'general', 'general meeting', 'generally', 'generated', 'generation', 'given', 'global', 'going', 'going concern', 'gold', 'good', 'goods', 'goodwill', 'governance', 'government', 'grant', 'granted', 'greater', 'gross', 'group', 'group company', 'growth', 'guarantee', 'guidance', 'having', 'health', 'held', 'high', 'higher', 'highly', 'historical', 'hold', 'holders', 'holding', 'holdings', 'holdings berhad', 'ia', 'id', 'identified', 'identify', 'ifrs', 'ii', 'iii', 'immediately', 'impact', 'impaired', 'impairment', 'impairment losses', 'implementation', 'incentive', 'include', 'included', 'includes', 'including', 'income', 'income loss', 'income tax', 'income taxes', 'incorporated', 'increase', 'increase decrease', 'increased', 'incurred', 'ind', 'independence', 'independent', 'india', 'india limited', 'indian', 'individual', 'industrial', 'industries', 'industry', 'information', 'initial', 'initial recognition', 'initially', 'initiatives', 'instrument', 'instruments', 'insurance', 'intangible', 'intangible assets', 'integral', 'interests', 'internal', 'internal control', 'international', 'inventories', 'inventory', 'investing', 'investment', 'investments', 'investor', 'investors', 'issuance', 'issue', 'issued', 'issues', 'item', 'items', 'iv', 'january', 'january 2019', 'joint', 'joint ventures', 'july', 'june', 'june 2018', 'june 2019', 'key', 'knowledge', 'lakhs', 'land', 'large', 'law', 'laws', 'leading', 'lease', 'lease liabilities', 'leases', 'legal', 'level', 'levels', 'liabilities', 'liability', 'life', 'likely', 'limited', 'limited annual', 'line', 'liquidity', 'listed', 'listing', 'lives', 'loan', 'loans', 'local', 'located', 'long', 'long term', 'longer', 'loss', 'losses', 'low', 'lower', 'ly', 'main', 'mainly', 'maintain', 'maintenance', 'major', 'make', 'making', 'malaysia', 'manage', 'managed', 'management', 'management discussion', 'management personnel', 'manager', 'managing', 'managing director', 'manner', 'manufacturing', 'march', 'march 2019', 'march 2020', 'march 31', 'margin', 'market', 'marketing', 'markets', 'material', 'materially', 'materials', 'matter', 'matters', 'maturity', 'maximum', 'measure', 'measured', 'measured fair', 'measurement', 'measures', 'meet', 'meeting', 'meetings', 'member', 'members', 'membership', 'met', 'method', 'million', 'millions', 'minimum', 'mining', 'model', 'monitoring', 'month', 'months', 'movement', 'mr', 'mumbai', 'national', 'natural', 'nature', 'necessary', 'net', 'net cash', 'net income', 'new', 'nil', 'non', 'non controlling', 'non current', 'non executive', 'normal', 'north', 'note', 'noted', 'notes', 'notes consolidated', 'notes financial', 'notes forming', 'notice', 'november', 'number', 'objective', 'objectives', 'obligation', 'obligations', 'obtain', 'obtained', 'occur', 'october', 'office', 'officer', 'offset', 'oil', 'ongoing', 'opening', 'operates', 'operating', 'operating activities', 'operation', 'operational', 'operations', 'opinion', 'opportunities', 'option', 'options', 'order', 'ordinary', 'ordinary shares', 'organisation', 'original', 'outstanding', 'overall', 'owned', 'owners', 'ownership', 'page', 'paid', 'parent', 'particulars', 'parties', 'partner', 'partners', 'party', 'past', 'pay', 'payable', 'payables', 'payment', 'payments', 'percentage', 'performance', 'performed', 'period', 'periods', 'person', 'personnel', 'place', 'plan', 'plans', 'plant', 'plant equipment', 'plus', 'policies', 'policy', 'portfolio', 'portion', 'position', 'possible', 'post', 'potential', 'power', 'practices', 'pre', 'preparation', 'prepared', 'prescribed', 'present', 'present value', 'presentation', 'presented', 'previous', 'previously', 'price', 'prices', 'pricing', 'primarily', 'principal', 'principles', 'prior', 'private', 'probable', 'procedures', 'proceeds', 'process', 'processes', 'product', 'production', 'products', 'professional', 'profit', 'profit loss', 'profit tax', 'profits', 'program', 'progress', 'project', 'projects', 'properties', 'property', 'property plant', 'proposed', 'provide', 'provided', 'provides', 'providing', 'provision', 'provisions', 'pty', 'public', 'purchase', 'purchased', 'purpose', 'purposes', 'pursuant', 'quality', 'quarter', 'quarterly', 'range', 'rate', 'rates', 'ratio', 'read', 'reasonable', 'reasonably', 'receivable', 'receivables', 'receive', 'received', 'reclassified', 'recognised', 'recognised profit', 'recognition', 'recognized', 'reconciliation', 'record', 'recorded', 'records', 'recoverable', 'recovery', 'reduce', 'reduced', 'reduction', 'refer', 'refer note', 'reference', 'referred', 'reflect', 'reflects', 'regarding', 'registered', 'registration', 'regulation', 'regulations', 'regulatory', 'related', 'related party', 'relating', 'relation', 'relationship', 'relevant', 'remain', 'remaining', 'remuneration', 'repayment', 'report', 'report 2018', 'report 2019', 'reported', 'reporting', 'reporting date', 'reporting period', 'reports', 'represent', 'represents', 'require', 'required', 'requirements', 'requires', 'research', 'reserve', 'reserves', 'resolution', 'resource', 'resources', 'respect', 'respective', 'respectively', 'responsibilities', 'responsibility', 'responsible', 'restated', 'result', 'resulted', 'resulting', 'results', 'results operations', 'retail', 'retained', 'retained earnings', 'retirement', 'return', 'returns', 'revenue', 'revenues', 'review', 'reviewed', 'right', 'right use', 'rights', 'risk', 'risk management', 'risks', 'rm', 'rm 000', 'rs', 'rs se', 'rules', 'safety', 'sale', 'sales', 'schedule', 'se', 'se ly', 'sebi', 'second', 'secretary', 'section', 'secured', 'securities', 'security', 'segment', 'segments', 'sell', 'selling', 'senior', 'senior management', 'separate', 'september', 'service', 'services', 'set', 'settled', 'settlement', 'shall', 'share', 'share amounts', 'share based', 'share capital', 'shareholder', 'shareholders', 'shares', 'shares company', 'shares issued', 'sheet', 'short', 'short term', 'shown', 'significant', 'significant accounting', 'significantly', 'similar', 'single', 'social', 'sold', 'solutions', 'south', 'special', 'specific', 'specified', 'stakeholders', 'standard', 'standards', 'state', 'stated', 'statement', 'statement cash', 'statement financial', 'statement profit', 'statements', 'statements 31', 'statements financial', 'statements year', 'states', 'statutory', 'stock', 'straight', 'strategic', 'strategy', 'strong', 'structure', 'sub', 'subject', 'subsequent', 'subsequently', 'subsidiaries', 'subsidiary', 'substantially', 'sufficient', 'summary', 'summary significant', 'supply', 'support', 'sustainability', 'systems', 'ta', 'table', 'taken', 'taking', 'tax', 'tax assets', 'tax expense', 'tax liabilities', 'taxable', 'taxation', 'taxes', 'te', 'team', 'technology', 'temporary', 'term', 'terms', 'terms conditions', 'testing', 'thousands', 'time', 'time time', 'timing', 'total', 'total assets', 'total comprehensive', 'total equity', 'trade', 'trade payables', 'trade receivables', 'trading', 'transaction', 'transactions', 'transfer', 'transferred', 'translation', 'ts', 'uncertainty', 'underlying', 'unit', 'united', 'united states', 'units', 'unless', 'use', 'used', 'useful', 'using', 'valuation', 'value', 'values', 'variable', 'various', 'venture', 'ventures', 'vi', 'view', 'voting', 'way', 'website', 'weighted', 'weighted average', 'work', 'working', 'working capital', 'world', 'written', 'www', 'year', 'year end', 'year ended', 'years', 'years ended']\n"
     ]
    },
    {
     "name": "stderr",
     "output_type": "stream",
     "text": [
      "/Users/baggu/opt/anaconda3/lib/python3.9/site-packages/sklearn/utils/deprecation.py:87: FutureWarning: Function get_feature_names is deprecated; get_feature_names is deprecated in 1.0 and will be removed in 1.2. Please use get_feature_names_out instead.\n",
      "  warnings.warn(msg, category=FutureWarning)\n"
     ]
    }
   ],
   "source": [
    "print(count_vect.get_feature_names())"
   ]
  },
  {
   "cell_type": "code",
   "execution_count": 6,
   "id": "05edd4fb",
   "metadata": {},
   "outputs": [
    {
     "data": {
      "text/plain": [
       "(8372, 1231)"
      ]
     },
     "execution_count": 6,
     "metadata": {},
     "output_type": "execute_result"
    }
   ],
   "source": [
    "from sklearn.feature_extraction.text import TfidfTransformer\n",
    "tfidf_transformer = TfidfTransformer()\n",
    "X_train_tfidf = tfidf_transformer.fit_transform(X_train_tf)\n",
    "X_train_tfidf.shape"
   ]
  },
  {
   "cell_type": "code",
   "execution_count": 7,
   "id": "4781757c",
   "metadata": {
    "scrolled": true
   },
   "outputs": [
    {
     "data": {
      "text/html": [
       "<style>#sk-container-id-1 {color: black;background-color: white;}#sk-container-id-1 pre{padding: 0;}#sk-container-id-1 div.sk-toggleable {background-color: white;}#sk-container-id-1 label.sk-toggleable__label {cursor: pointer;display: block;width: 100%;margin-bottom: 0;padding: 0.3em;box-sizing: border-box;text-align: center;}#sk-container-id-1 label.sk-toggleable__label-arrow:before {content: \"▸\";float: left;margin-right: 0.25em;color: #696969;}#sk-container-id-1 label.sk-toggleable__label-arrow:hover:before {color: black;}#sk-container-id-1 div.sk-estimator:hover label.sk-toggleable__label-arrow:before {color: black;}#sk-container-id-1 div.sk-toggleable__content {max-height: 0;max-width: 0;overflow: hidden;text-align: left;background-color: #f0f8ff;}#sk-container-id-1 div.sk-toggleable__content pre {margin: 0.2em;color: black;border-radius: 0.25em;background-color: #f0f8ff;}#sk-container-id-1 input.sk-toggleable__control:checked~div.sk-toggleable__content {max-height: 200px;max-width: 100%;overflow: auto;}#sk-container-id-1 input.sk-toggleable__control:checked~label.sk-toggleable__label-arrow:before {content: \"▾\";}#sk-container-id-1 div.sk-estimator input.sk-toggleable__control:checked~label.sk-toggleable__label {background-color: #d4ebff;}#sk-container-id-1 div.sk-label input.sk-toggleable__control:checked~label.sk-toggleable__label {background-color: #d4ebff;}#sk-container-id-1 input.sk-hidden--visually {border: 0;clip: rect(1px 1px 1px 1px);clip: rect(1px, 1px, 1px, 1px);height: 1px;margin: -1px;overflow: hidden;padding: 0;position: absolute;width: 1px;}#sk-container-id-1 div.sk-estimator {font-family: monospace;background-color: #f0f8ff;border: 1px dotted black;border-radius: 0.25em;box-sizing: border-box;margin-bottom: 0.5em;}#sk-container-id-1 div.sk-estimator:hover {background-color: #d4ebff;}#sk-container-id-1 div.sk-parallel-item::after {content: \"\";width: 100%;border-bottom: 1px solid gray;flex-grow: 1;}#sk-container-id-1 div.sk-label:hover label.sk-toggleable__label {background-color: #d4ebff;}#sk-container-id-1 div.sk-serial::before {content: \"\";position: absolute;border-left: 1px solid gray;box-sizing: border-box;top: 0;bottom: 0;left: 50%;z-index: 0;}#sk-container-id-1 div.sk-serial {display: flex;flex-direction: column;align-items: center;background-color: white;padding-right: 0.2em;padding-left: 0.2em;position: relative;}#sk-container-id-1 div.sk-item {position: relative;z-index: 1;}#sk-container-id-1 div.sk-parallel {display: flex;align-items: stretch;justify-content: center;background-color: white;position: relative;}#sk-container-id-1 div.sk-item::before, #sk-container-id-1 div.sk-parallel-item::before {content: \"\";position: absolute;border-left: 1px solid gray;box-sizing: border-box;top: 0;bottom: 0;left: 50%;z-index: -1;}#sk-container-id-1 div.sk-parallel-item {display: flex;flex-direction: column;z-index: 1;position: relative;background-color: white;}#sk-container-id-1 div.sk-parallel-item:first-child::after {align-self: flex-end;width: 50%;}#sk-container-id-1 div.sk-parallel-item:last-child::after {align-self: flex-start;width: 50%;}#sk-container-id-1 div.sk-parallel-item:only-child::after {width: 0;}#sk-container-id-1 div.sk-dashed-wrapped {border: 1px dashed gray;margin: 0 0.4em 0.5em 0.4em;box-sizing: border-box;padding-bottom: 0.4em;background-color: white;}#sk-container-id-1 div.sk-label label {font-family: monospace;font-weight: bold;display: inline-block;line-height: 1.2em;}#sk-container-id-1 div.sk-label-container {text-align: center;}#sk-container-id-1 div.sk-container {/* jupyter's `normalize.less` sets `[hidden] { display: none; }` but bootstrap.min.css set `[hidden] { display: none !important; }` so we also need the `!important` here to be able to override the default hidden behavior on the sphinx rendered scikit-learn.org. See: https://github.com/scikit-learn/scikit-learn/issues/21755 */display: inline-block !important;position: relative;}#sk-container-id-1 div.sk-text-repr-fallback {display: none;}</style><div id=\"sk-container-id-1\" class=\"sk-top-container\"><div class=\"sk-text-repr-fallback\"><pre>MultinomialNB()</pre><b>In a Jupyter environment, please rerun this cell to show the HTML representation or trust the notebook. <br />On GitHub, the HTML representation is unable to render, please try loading this page with nbviewer.org.</b></div><div class=\"sk-container\" hidden><div class=\"sk-item\"><div class=\"sk-estimator sk-toggleable\"><input class=\"sk-toggleable__control sk-hidden--visually\" id=\"sk-estimator-id-1\" type=\"checkbox\" checked><label for=\"sk-estimator-id-1\" class=\"sk-toggleable__label sk-toggleable__label-arrow\">MultinomialNB</label><div class=\"sk-toggleable__content\"><pre>MultinomialNB()</pre></div></div></div></div></div>"
      ],
      "text/plain": [
       "MultinomialNB()"
      ]
     },
     "execution_count": 7,
     "metadata": {},
     "output_type": "execute_result"
    }
   ],
   "source": [
    "#import autosklearn.classification\n",
    "#clf = autosklearn.classification.AutoSklearnClassifier()\n",
    "#clf.fit(X_train_tfidf, train_pages_dict['target'])\n",
    "\n",
    "from sklearn.naive_bayes import MultinomialNB\n",
    "clf = MultinomialNB()\n",
    "clf.fit(X_train_tfidf, train_pages_dict['target'])"
   ]
  },
  {
   "cell_type": "code",
   "execution_count": 8,
   "id": "3133ff16",
   "metadata": {},
   "outputs": [],
   "source": [
    "X_test_tf = count_vect.transform(test_pages_dict['data'])\n",
    "X_test_tfidf = tfidf_transformer.transform(X_test_tf)\n",
    "predicted = clf.predict(X_test_tfidf) "
   ]
  },
  {
   "cell_type": "code",
   "execution_count": 9,
   "id": "e2dd70fd",
   "metadata": {
    "scrolled": true
   },
   "outputs": [
    {
     "name": "stdout",
     "output_type": "stream",
     "text": [
      "Accuracy(Naive Bayes): 0.8862876254180602\n",
      "              precision    recall  f1-score   support\n",
      "\n",
      "          FS       0.78      0.94      0.85       197\n",
      "        Junk       0.95      0.87      0.91      1152\n",
      "       Notes       0.83      0.89      0.86       744\n",
      "\n",
      "    accuracy                           0.89      2093\n",
      "   macro avg       0.85      0.90      0.87      2093\n",
      "weighted avg       0.89      0.89      0.89      2093\n",
      "\n"
     ]
    },
    {
     "data": {
      "text/plain": [
       "array([[ 185,    0,   12],\n",
       "       [  21, 1007,  124],\n",
       "       [  32,   49,  663]])"
      ]
     },
     "execution_count": 9,
     "metadata": {},
     "output_type": "execute_result"
    }
   ],
   "source": [
    "from sklearn import metrics\n",
    "from sklearn.metrics import accuracy_score\n",
    "print('Accuracy(Naive Bayes):',accuracy_score(test_pages_dict['target'],predicted))\n",
    "print(metrics.classification_report(test_pages_dict['target'],predicted,target_names=pages_dict.target_names))\n",
    "metrics.confusion_matrix(test_pages_dict['target'],predicted)"
   ]
  },
  {
   "cell_type": "code",
   "execution_count": 10,
   "id": "b611e4f9",
   "metadata": {},
   "outputs": [
    {
     "name": "stdout",
     "output_type": "stream",
     "text": [
      "Accuracy(RF): 0.9569995222169135\n",
      "              precision    recall  f1-score   support\n",
      "\n",
      "          FS       0.99      0.94      0.97       197\n",
      "        Junk       0.96      0.97      0.96      1152\n",
      "       Notes       0.94      0.95      0.94       744\n",
      "\n",
      "    accuracy                           0.96      2093\n",
      "   macro avg       0.96      0.95      0.96      2093\n",
      "weighted avg       0.96      0.96      0.96      2093\n",
      "\n"
     ]
    },
    {
     "data": {
      "text/plain": [
       "array([[ 186,    4,    7],\n",
       "       [   1, 1112,   39],\n",
       "       [   1,   38,  705]])"
      ]
     },
     "execution_count": 10,
     "metadata": {},
     "output_type": "execute_result"
    }
   ],
   "source": [
    "from sklearn.ensemble import RandomForestClassifier\n",
    "from sklearn import preprocessing\n",
    "classifier = RandomForestClassifier(n_estimators=1200, random_state=1)  #defining 1000 nodes \n",
    "rf = classifier.fit(X_train_tfidf, train_pages_dict['target'])  \n",
    "\n",
    "y_pred = classifier.predict(X_test_tfidf) \n",
    "\n",
    "from sklearn import metrics\n",
    "from sklearn.metrics import accuracy_score\n",
    "print('Accuracy(RF):',accuracy_score(test_pages_dict['target'],y_pred))\n",
    "print(metrics.classification_report(test_pages_dict['target'],y_pred,target_names=pages_dict.target_names))\n",
    "metrics.confusion_matrix(test_pages_dict['target'],y_pred)"
   ]
  },
  {
   "cell_type": "code",
   "execution_count": 11,
   "id": "caed9f45",
   "metadata": {},
   "outputs": [
    {
     "name": "stdout",
     "output_type": "stream",
     "text": [
      "Requirement already satisfied: xgboost in ./opt/anaconda3/lib/python3.9/site-packages (1.6.1)\n",
      "Requirement already satisfied: numpy in ./opt/anaconda3/lib/python3.9/site-packages (from xgboost) (1.20.3)\n",
      "Requirement already satisfied: scipy in ./opt/anaconda3/lib/python3.9/site-packages (from xgboost) (1.7.1)\n",
      "Accuracy(RF): 0.9646440516005733\n",
      "              precision    recall  f1-score   support\n",
      "\n",
      "          FS       0.98      0.96      0.97       197\n",
      "        Junk       0.97      0.97      0.97      1152\n",
      "       Notes       0.95      0.95      0.95       744\n",
      "\n",
      "    accuracy                           0.96      2093\n",
      "   macro avg       0.97      0.96      0.97      2093\n",
      "weighted avg       0.96      0.96      0.96      2093\n",
      "\n"
     ]
    },
    {
     "data": {
      "text/plain": [
       "array([[ 190,    2,    5],\n",
       "       [   2, 1119,   31],\n",
       "       [   1,   33,  710]])"
      ]
     },
     "execution_count": 11,
     "metadata": {},
     "output_type": "execute_result"
    }
   ],
   "source": [
    "import sys\n",
    "!{sys.executable} -m pip install xgboost\n",
    "\n",
    "from xgboost import XGBClassifier\n",
    "xgb = XGBClassifier()\n",
    "xgb.fit(X_train_tfidf, train_pages_dict['target'])\n",
    "\n",
    "y_pred_xgb = xgb.predict(X_test_tfidf)\n",
    "\n",
    "from sklearn import metrics\n",
    "from sklearn.metrics import accuracy_score\n",
    "print('Accuracy(RF):',accuracy_score(test_pages_dict['target'],y_pred_xgb))\n",
    "print(metrics.classification_report(test_pages_dict['target'],y_pred_xgb,target_names=pages_dict.target_names))\n",
    "metrics.confusion_matrix(test_pages_dict['target'],y_pred_xgb)"
   ]
  }
 ],
 "metadata": {
  "kernelspec": {
   "display_name": "Python 3 (ipykernel)",
   "language": "python",
   "name": "python3"
  },
  "language_info": {
   "codemirror_mode": {
    "name": "ipython",
    "version": 3
   },
   "file_extension": ".py",
   "mimetype": "text/x-python",
   "name": "python",
   "nbconvert_exporter": "python",
   "pygments_lexer": "ipython3",
   "version": "3.9.7"
  }
 },
 "nbformat": 4,
 "nbformat_minor": 5
}
