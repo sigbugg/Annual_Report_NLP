{
 "cells": [
  {
   "cell_type": "code",
   "execution_count": 1,
   "id": "e6c2fe17",
   "metadata": {},
   "outputs": [],
   "source": [
    "#Importing the raw data category wise\n",
    "import sklearn.datasets as skd\n",
    "categories = ['FS', 'Notes','Junk']\n",
    "pages_dict = skd.load_files('/Users/baggu/Downloads/FT_ML_training_Data/Input/', categories= categories, encoding= 'ISO-8859-1')"
   ]
  },
  {
   "cell_type": "code",
   "execution_count": 2,
   "id": "790440cb",
   "metadata": {},
   "outputs": [],
   "source": [
    "#Defining the pre-preprocessing steps\n",
    "import nltk\n",
    "# Needed only once\n",
    "# nltk.download('stopwords')\n",
    "# nltk.download('punkt')\n",
    "# nltk.download('wordnet')\n",
    "import re, unidecode, string\n",
    "from bs4 import BeautifulSoup\n",
    "from nltk.stem.porter import PorterStemmer \n",
    "from nltk.stem import WordNetLemmatizer \n",
    "from nltk.corpus import stopwords \n",
    "from nltk.tokenize import word_tokenize\n",
    "\n",
    "def remove_html_tags(text):\n",
    "    soup = BeautifulSoup(text, \"html.parser\")\n",
    "    stripped_text = soup.get_text(separator=\" \")\n",
    "    return stripped_text\n",
    "\n",
    "def remove_accented_chars(text):\n",
    "    text = unidecode.unidecode(text)\n",
    "    return text\n",
    "\n",
    "def remove_numbers(text): \n",
    "    result = re.sub(r'\\d+', '', text) \n",
    "    return result\n",
    "\n",
    "def remove_slash_with_space(text): \n",
    "    return text.replace('\\\\', \" \")\n",
    "\n",
    "def remove_punctuation(text): \n",
    "    translator = str.maketrans('', '', string.punctuation) \n",
    "    return text.translate(translator) \n",
    "\n",
    "def text_lowercase(text): \n",
    "    return text.lower()     \n",
    "\n",
    "def remove_whitespace(text): \n",
    "    return  \" \".join(text.split()) \n",
    "\n",
    "def remove_stopwords(text): \n",
    "    stop_words = set(stopwords.words(\"english\")) \n",
    "    word_tokens = word_tokenize(text) \n",
    "    filtered_text = [word for word in word_tokens if word not in stop_words] \n",
    "    return ' '.join(filtered_text)\n",
    "\n",
    "def stem_words(text): \n",
    "    stemmer = PorterStemmer() \n",
    "    word_tokens = word_tokenize(text) \n",
    "    stems = [stemmer.stem(word) for word in word_tokens] \n",
    "    return ' '.join(stems)\n",
    "\n",
    "def lemmatize_words(text): \n",
    "    lemmatizer = WordNetLemmatizer() \n",
    "    word_tokens = word_tokenize(text) \n",
    "    # provide context i.e. part-of-speech \n",
    "    lemmas = [lemmatizer.lemmatize(word, pos ='v') for word in word_tokens] \n",
    "    return ' '.join(lemmas) "
   ]
  },
  {
   "cell_type": "code",
   "execution_count": 3,
   "id": "193473c2",
   "metadata": {},
   "outputs": [],
   "source": [
    "# Perform preprocessing\n",
    "def perform_preprocessing(text):\n",
    "    text = remove_html_tags(text)\n",
    "    text = remove_accented_chars(text)\n",
    "    text = remove_numbers(text)\n",
    "    text = remove_stopwords(text)\n",
    "    text = text_lowercase(text)\n",
    "    text = remove_slash_with_space(text)\n",
    "    text = remove_punctuation(text)\n",
    "    text = stem_words(text)\n",
    "    #text = lemmatize_words(text)\n",
    "    text = remove_whitespace(text)\n",
    "    return text\n",
    "\n",
    "pages_dict.data = list(map(perform_preprocessing, pages_dict.data))"
   ]
  },
  {
   "cell_type": "code",
   "execution_count": 4,
   "id": "4790f569",
   "metadata": {},
   "outputs": [],
   "source": [
    "#Splitting the data into train and test set\n",
    "from sklearn.model_selection import train_test_split\n",
    "data_train, data_test, target_train, target_test = train_test_split(pages_dict['data'], pages_dict['target'], test_size=0.2, random_state=42)\n",
    "\n",
    "train_pages_dict = {\n",
    "    'data' : data_train,\n",
    "    'target' : target_train\n",
    "}\n",
    "\n",
    "test_pages_dict = {\n",
    "    'data' : data_test,\n",
    "    'target' : target_test\n",
    "}"
   ]
  },
  {
   "cell_type": "code",
   "execution_count": 8,
   "id": "8584cf6b",
   "metadata": {},
   "outputs": [],
   "source": [
    "# Assigning vectors to the input data\n",
    "from sklearn.feature_extraction.text import TfidfVectorizer\n",
    "tfidf_converter = TfidfVectorizer(stop_words='english', min_df=0.03, ngram_range=(1,2))\n",
    "X_train_tfidf = tfidf_converter.fit_transform(train_pages_dict['data'])\n",
    "X_train_tfidf.shape\n",
    "\n",
    "# Saving model to disk\n",
    "import pickle\n",
    "pickle.dump(tfidf_converter, open('vectorizer.pkl','wb'))"
   ]
  },
  {
   "cell_type": "code",
   "execution_count": 9,
   "id": "f32a958d",
   "metadata": {},
   "outputs": [
    {
     "name": "stdout",
     "output_type": "stream",
     "text": [
      "Accuracy(Naive Bayes): 0.8972766364070712\n",
      "              precision    recall  f1-score   support\n",
      "\n",
      "          FS       0.91      0.92      0.91       197\n",
      "        Junk       0.95      0.88      0.92      1152\n",
      "       Notes       0.83      0.91      0.87       744\n",
      "\n",
      "    accuracy                           0.90      2093\n",
      "   macro avg       0.89      0.91      0.90      2093\n",
      "weighted avg       0.90      0.90      0.90      2093\n",
      "\n"
     ]
    },
    {
     "data": {
      "text/plain": [
       "array([[ 182,    0,   15],\n",
       "       [   6, 1018,  128],\n",
       "       [  13,   53,  678]])"
      ]
     },
     "execution_count": 9,
     "metadata": {},
     "output_type": "execute_result"
    }
   ],
   "source": [
    "#Classification using Naive Bayes\n",
    "from sklearn.naive_bayes import MultinomialNB\n",
    "clf = MultinomialNB()\n",
    "clf.fit(X_train_tfidf, train_pages_dict['target'])\n",
    "\n",
    "X_test_tfidf = tfidf_converter.transform(test_pages_dict['data'])\n",
    "predicted = clf.predict(X_test_tfidf) \n",
    "\n",
    "from sklearn import metrics\n",
    "from sklearn.metrics import accuracy_score\n",
    "print('Accuracy(Naive Bayes):',accuracy_score(test_pages_dict['target'],predicted))\n",
    "print(metrics.classification_report(test_pages_dict['target'],predicted,target_names=pages_dict.target_names))\n",
    "metrics.confusion_matrix(test_pages_dict['target'],predicted)\n",
    "\n",
    "pickle.dump(clf, open('nbmodel.pkl','wb'))"
   ]
  },
  {
   "cell_type": "code",
   "execution_count": 10,
   "id": "881f1e0c",
   "metadata": {},
   "outputs": [
    {
     "name": "stdout",
     "output_type": "stream",
     "text": [
      "Accuracy(RF): 0.9541328236980411\n",
      "              precision    recall  f1-score   support\n",
      "\n",
      "          FS       0.99      0.95      0.97       197\n",
      "        Junk       0.96      0.96      0.96      1152\n",
      "       Notes       0.93      0.94      0.94       744\n",
      "\n",
      "    accuracy                           0.95      2093\n",
      "   macro avg       0.96      0.95      0.96      2093\n",
      "weighted avg       0.95      0.95      0.95      2093\n",
      "\n"
     ]
    },
    {
     "data": {
      "text/plain": [
       "array([[ 188,    3,    6],\n",
       "       [   0, 1106,   46],\n",
       "       [   1,   40,  703]])"
      ]
     },
     "execution_count": 10,
     "metadata": {},
     "output_type": "execute_result"
    }
   ],
   "source": [
    "#Classification using Random Forest\n",
    "from sklearn.ensemble import RandomForestClassifier\n",
    "from sklearn import preprocessing\n",
    "classifier = RandomForestClassifier(n_estimators=1200, random_state=1)  #defining 1000 nodes \n",
    "rf = classifier.fit(X_train_tfidf, train_pages_dict['target'])  \n",
    "\n",
    "y_pred = classifier.predict(X_test_tfidf) \n",
    "\n",
    "from sklearn import metrics\n",
    "from sklearn.metrics import accuracy_score\n",
    "print('Accuracy(RF):',accuracy_score(test_pages_dict['target'],y_pred))\n",
    "print(metrics.classification_report(test_pages_dict['target'],y_pred,target_names=pages_dict.target_names))\n",
    "metrics.confusion_matrix(test_pages_dict['target'],y_pred)\n",
    "\n",
    "pickle.dump(rf, open('rfmodel.pkl','wb'))"
   ]
  },
  {
   "cell_type": "code",
   "execution_count": 11,
   "id": "946924f6",
   "metadata": {},
   "outputs": [],
   "source": [
    "pickle.dump(rf, open('rfmodel.pkl','wb'))"
   ]
  },
  {
   "cell_type": "code",
   "execution_count": 12,
   "id": "70475ab1",
   "metadata": {},
   "outputs": [
    {
     "name": "stdout",
     "output_type": "stream",
     "text": [
      "Accuracy(RF): 0.9617773530817009\n",
      "              precision    recall  f1-score   support\n",
      "\n",
      "          FS       0.99      0.96      0.97       197\n",
      "        Junk       0.96      0.97      0.97      1152\n",
      "       Notes       0.95      0.95      0.95       744\n",
      "\n",
      "    accuracy                           0.96      2093\n",
      "   macro avg       0.97      0.96      0.96      2093\n",
      "weighted avg       0.96      0.96      0.96      2093\n",
      "\n"
     ]
    }
   ],
   "source": [
    "#Classification using Random Forest\n",
    "\n",
    "# import sys\n",
    "# !{sys.executable} -m pip install xgboost\n",
    "\n",
    "from xgboost import XGBClassifier\n",
    "xgb = XGBClassifier()\n",
    "xgb.fit(X_train_tfidf, train_pages_dict['target'])\n",
    "\n",
    "y_pred_xgb = xgb.predict(X_test_tfidf)\n",
    "\n",
    "from sklearn import metrics\n",
    "from sklearn.metrics import accuracy_score\n",
    "print('Accuracy(RF):',accuracy_score(test_pages_dict['target'],y_pred_xgb))\n",
    "print(metrics.classification_report(test_pages_dict['target'],y_pred_xgb,target_names=pages_dict.target_names))\n",
    "metrics.confusion_matrix(test_pages_dict['target'],y_pred_xgb)\n",
    "\n",
    "pickle.dump(xgb, open('xgbmodel.pkl','wb'))"
   ]
  }
 ],
 "metadata": {
  "kernelspec": {
   "display_name": "Python 3 (ipykernel)",
   "language": "python",
   "name": "python3"
  },
  "language_info": {
   "codemirror_mode": {
    "name": "ipython",
    "version": 3
   },
   "file_extension": ".py",
   "mimetype": "text/x-python",
   "name": "python",
   "nbconvert_exporter": "python",
   "pygments_lexer": "ipython3",
   "version": "3.9.7"
  }
 },
 "nbformat": 4,
 "nbformat_minor": 5
}
